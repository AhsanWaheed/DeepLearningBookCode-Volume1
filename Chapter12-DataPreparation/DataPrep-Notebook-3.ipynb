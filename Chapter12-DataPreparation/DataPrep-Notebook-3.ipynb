{
 "cells": [
  {
   "cell_type": "markdown",
   "metadata": {},
   "source": [
    "<small>\n",
    "Copyright (c) 2017 Andrew Glassner\n",
    "\n",
    "Permission is hereby granted, free of charge, to any person obtaining a copy of this software and associated documentation files (the \"Software\"), to deal in the Software without restriction, including without limitation the rights to use, copy, modify, merge, publish, distribute, sublicense, and/or sell copies of the Software, and to permit persons to whom the Software is furnished to do so, subject to the following conditions:\n",
    "\n",
    "The above copyright notice and this permission notice shall be included in all copies or substantial portions of the Software.\n",
    "\n",
    "THE SOFTWARE IS PROVIDED \"AS IS\", WITHOUT WARRANTY OF ANY KIND, EXPRESS OR IMPLIED, INCLUDING BUT NOT LIMITED TO THE WARRANTIES OF MERCHANTABILITY, FITNESS FOR A PARTICULAR PURPOSE AND NONINFRINGEMENT. IN NO EVENT SHALL THE AUTHORS OR COPYRIGHT HOLDERS BE LIABLE FOR ANY CLAIM, DAMAGES OR OTHER LIABILITY, WHETHER IN AN ACTION OF CONTRACT, TORT OR OTHERWISE, ARISING FROM, OUT OF OR IN CONNECTION WITH THE SOFTWARE OR THE USE OR OTHER DEALINGS IN THE SOFTWARE.\n",
    "</small>\n",
    "\n",
    "\n",
    "\n",
    "# Deep Learning From Basics to Practice\n",
    "## by Andrew Glassner, https://dlbasics.com, http://glassner.com\n",
    "------\n",
    "## Chapter 12: Data Preparation\n",
    "### Notebook 3: Processing Image Features\n",
    "\n",
    "This notebook is provided as a “behind-the-scenes” look at code used to make some of the figures in this chapter. It is still in the hacked-together form used to develop the figures, and is only lightly commented."
   ]
  },
  {
   "cell_type": "code",
   "execution_count": 1,
   "metadata": {
    "collapsed": false
   },
   "outputs": [],
   "source": [
    "import matplotlib.pyplot as plt\n",
    "import matplotlib.patches as patches\n",
    "import numpy as np\n",
    "import math\n",
    "\n",
    "import seaborn as sns ; sns.set()"
   ]
  },
  {
   "cell_type": "code",
   "execution_count": 2,
   "metadata": {
    "collapsed": false
   },
   "outputs": [
    {
     "name": "stderr",
     "output_type": "stream",
     "text": [
      "/Library/Frameworks/Python.framework/Versions/3.5/lib/python3.5/site-packages/h5py/__init__.py:34: FutureWarning: Conversion of the second argument of issubdtype from `float` to `np.floating` is deprecated. In future, it will be treated as `np.float64 == np.dtype(float).type`.\n",
      "  from ._conv import register_converters as _register_converters\n",
      "Using TensorFlow backend.\n"
     ]
    }
   ],
   "source": [
    "# Make a File_Helper for saving and loading files.\n",
    "\n",
    "save_files = True\n",
    "\n",
    "import os, sys, inspect\n",
    "current_dir = os.path.dirname(os.path.abspath(inspect.getfile(inspect.currentframe())))\n",
    "sys.path.insert(0, os.path.dirname(current_dir)) # path to parent dir\n",
    "from DLBasics_Utilities import File_Helper\n",
    "file_helper = File_Helper(save_files)"
   ]
  },
  {
   "cell_type": "code",
   "execution_count": 3,
   "metadata": {
    "collapsed": false
   },
   "outputs": [],
   "source": [
    "images = np.array([\n",
    "    [0, 0, 1, 0, 0, 0, 1, 0, 1, 0, 1, 0, 0, 0, 1, 1, 1, 1, 1, 1, 1, 0, 0, 0, 1 ], # the letter A\n",
    "    [1, 1, 1, 1, 0, 1, 0, 0, 0, 1, 1, 1, 1, 1, 0, 1, 0, 0, 0, 1, 1, 1, 1, 1, 0 ], # the letter B\n",
    "    [0, 1, 1, 1, 0, 1, 1, 0, 0, 0, 1, 0, 1, 1, 1, 1, 0, 0, 0, 1, 0, 1, 1, 1, 0 ], # the letter G\n",
    "    [1, 0, 0, 0, 1, 1, 1, 0, 1, 1, 1, 0, 1, 0, 1, 1, 0, 0, 0, 1, 1, 0, 0, 0, 1 ], # the letter M\n",
    "    [0, 1, 1, 1, 1, 1, 0, 0, 0, 0, 0, 1, 1, 1, 0, 0, 0, 0, 0, 1, 1, 1, 1, 1, 0 ]  # the letter S\n",
    "    ])"
   ]
  },
  {
   "cell_type": "code",
   "execution_count": 4,
   "metadata": {
    "collapsed": false
   },
   "outputs": [],
   "source": [
    "Simages = np.copy(images)\n",
    "for f in range(Simages.shape[1]): # for each feature\n",
    "    feature_center = np.mean(Simages[:, f])\n",
    "    feature_sigma = np.sqrt(np.var(Simages[:, f]))\n",
    "    if feature_sigma != 0:\n",
    "        Simages[:,f] = [(v-feature_center)/feature_sigma for v in Simages[:, f]]"
   ]
  },
  {
   "cell_type": "code",
   "execution_count": 12,
   "metadata": {
    "collapsed": false
   },
   "outputs": [
    {
     "data": {
      "image/png": "[encoded data removed]",
      "text/plain": [
       "<matplotlib.figure.Figure at 0x11d29d4e0>"
      ]
     },
     "metadata": {},
     "output_type": "display_data"
    }
   ],
   "source": [
    "def lerp(a, lo, hi):\n",
    "    return lo + (a * (hi-lo))\n",
    "def lerprgb(a, rgb0, rgb1):\n",
    "    return [lerp(a, rgb0[i], rgb1[i])/255 for i in [0,1,2]]\n",
    "\n",
    "plt.figure(figsize=(10,5))\n",
    "num_rows = 1 + (2*len(images))\n",
    "rect_size = 1.0/images.shape[1]\n",
    "# top rows are original letters\n",
    "for i in range(len(images)):\n",
    "    plt.subplot(num_rows, 1, i+1)\n",
    "    ax = plt.gca()\n",
    "    for f in range(images.shape[1]):\n",
    "        # Rectangle((left, top), width, height) with (0,0) in LL\n",
    "        if images[i][f] > 0:\n",
    "            fclr = [1, 0, 0]\n",
    "        else:\n",
    "            fclr = [1, 1, 1]\n",
    "        rect = patches.Rectangle((rect_size*f, 0),rect_size, rect_size,linewidth=1,edgecolor='black',facecolor=fclr)\n",
    "        ax.add_patch(rect)\n",
    "    plt.xlim(0, 1)\n",
    "    plt.ylim(0, rect_size)\n",
    "    plt.xticks([],[])\n",
    "    plt.yticks([],[])\n",
    "\n",
    "# lowers rows are standardized letters\n",
    "Smin, Smax = np.min(Simages), np.max(Simages)\n",
    "for i in range(len(images)):\n",
    "    plt.subplot(num_rows, 1, i+len(images)+2)\n",
    "    ax = plt.gca()\n",
    "    for f in range(images.shape[1]):\n",
    "        # Rectangle((left, top), width, height) with (0,0) in LL\n",
    "        sval = (Simages[i][f]-Smin)/(Smax-Smin)\n",
    "        #fclr = [sval, sval, sval]\n",
    "        fclr = lerprgb(sval, [210, 250, 255], [75, 50, 230])\n",
    "        rect = patches.Rectangle((rect_size*f, 0),rect_size, rect_size,linewidth=1,edgecolor='black',facecolor=fclr)\n",
    "        ax.add_patch(rect)\n",
    "    plt.xlim(0, 1)\n",
    "    plt.ylim(0, rect_size)\n",
    "    plt.xticks([],[])\n",
    "    plt.yticks([],[])\n",
    "file_helper.save_figure('list-processing')\n",
    "plt.show()"
   ]
  },
  {
   "cell_type": "code",
   "execution_count": null,
   "metadata": {
    "collapsed": true
   },
   "outputs": [],
   "source": []
  },
  {
   "cell_type": "code",
   "execution_count": null,
   "metadata": {
    "collapsed": true
   },
   "outputs": [],
   "source": []
  }
 ],
 "metadata": {
  "kernelspec": {
   "display_name": "Python 3",
   "language": "python",
   "name": "python3"
  },
  "language_info": {
   "codemirror_mode": {
    "name": "ipython",
    "version": 3
   },
   "file_extension": ".py",
   "mimetype": "text/x-python",
   "name": "python",
   "nbconvert_exporter": "python",
   "pygments_lexer": "ipython3",
   "version": "3.5.0"
  }
 },
 "nbformat": 4,
 "nbformat_minor": 1
}
